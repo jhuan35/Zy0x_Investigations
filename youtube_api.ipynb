{
 "cells": [
  {
   "cell_type": "code",
   "execution_count": 236,
   "metadata": {},
   "outputs": [],
   "source": [
    "# !pip install --upgrade google-api-python-client\n",
    "# !pip install calplot"
   ]
  },
  {
   "cell_type": "code",
   "execution_count": 237,
   "metadata": {},
   "outputs": [],
   "source": [
    "from googleapiclient.discovery import build\n",
    "import re\n",
    "from datetime import datetime\n",
    "import pandas as pd\n",
    "import calplot"
   ]
  },
  {
   "cell_type": "code",
   "execution_count": 238,
   "metadata": {},
   "outputs": [],
   "source": [
    "# Replace with your API key from Google Cloud Platform\n",
    "api_key = 'Your_API_Key'\n",
    "youtube = build('youtube', 'v3', developerKey=api_key)"
   ]
  },
  {
   "cell_type": "code",
   "execution_count": 239,
   "metadata": {},
   "outputs": [
    {
     "name": "stdout",
     "output_type": "stream",
     "text": [
      "Channel ID: UCvoz_JCPK2XePUoLjHsg1PQ\n"
     ]
    }
   ],
   "source": [
    "# Find the channel ID of Zy0x Archives\n",
    "search_response = youtube.search().list(\n",
    "    q='Zy0xArchives',\n",
    "    part='snippet',\n",
    "    type='channel',\n",
    "    maxResults=1\n",
    ").execute()\n",
    "\n",
    "if search_response['items']:\n",
    "    channel_id = search_response['items'][0]['id']['channelId']\n",
    "    print(f\"Channel ID: {channel_id}\")\n",
    "else:\n",
    "    print(\"Channel not found\")"
   ]
  },
  {
   "cell_type": "code",
   "execution_count": 240,
   "metadata": {},
   "outputs": [
    {
     "name": "stdout",
     "output_type": "stream",
     "text": [
      "('Zy0x VOD: Feb 18, 2024 - Trying Out Wuthering Waves Closed Beta Test 2', '2024-02-19T16:08:16Z')\n",
      "('Zy0x Archive/VOD: Jan 17, 2024 - Dr. Ratio Release, Testing Him Out On MoC And SU: Gold and Gears', '2024-02-19T16:06:22Z')\n",
      "('Zy0x VOD: Feb 14, 2024 - 5* Character Pull Value Tierlist, Abyss Testing, Lantern Rite Minigames', '2024-02-14T15:41:12Z')\n",
      "('Zy0x VOD: Feb 12, 2024 - Viewer Abyss Runs Review: Part 2, Exploring, Artifact Farming, Reacts', '2024-02-12T16:55:26Z')\n",
      "('Zy0x VOD: Feb 8, 2024 - Finishing The HSR 2.0 Penacony Trailblaze Mission, Abyss Testing', '2024-02-09T16:05:31Z')\n",
      "('Zy0x VOD: Feb 5, 2024 - HSR 2.0 And Penacony Release, Black Swan & Misha Pulls, Testing Them Out', '2024-02-06T14:06:59Z')\n",
      "('Zy0x VOD: Feb 5, 2024 - Playing Granblue Fantasy: Relink, Genshin Grinding Before HSR 2.0', '2024-02-05T14:50:23Z')\n",
      "('Zy0x VOD: Feb 4, 2024 - Artifact Farming & Strongboxing, Abyss Testing, Exploring', '2024-02-04T14:09:00Z')\n",
      "('Zy0x VOD: Feb 1, 2024 - New Genshin 4.4 Abyss, Testing 4* Teams, Playing Lethal Company w/ Friends', '2024-02-02T14:33:04Z')\n",
      "('Zy0x VOD: Jan 31, 2024 - Xianyun & Gaming Testing, Grinding, Playing Buckshot Roulette, Reacts', '2024-02-01T13:17:44Z')\n",
      "('Zy0x VOD: Jan 30, 2024 - Genshin 4.4 Release, Xianyun & Gaming Pulls, Testing Them Out In Abyss', '2024-01-31T14:51:57Z')\n",
      "('Zy0x Archive/VOD: Jan 28, 2024 - Viewer Abyss Runs Review: Part 1, Xianyun Prep, Itto Beetle Event', '2024-01-29T13:26:58Z')\n",
      "('Zy0x Archive/VOD: Jan 26, 2024 - Reacting To The HSR 2.0 Livestream', '2024-01-26T14:17:08Z')\n",
      "('Zy0x Archive/VOD: Jan 24, 2024 - Playing Granblue Fantasy: Relink Demo, Reacts, HSR Drip Marketing', '2024-01-26T13:02:19Z')\n",
      "('Zy0x Archive/VOD: Jan 21, 2024 - Genshin Vs HSR \"Drama\", Finishing Watatsumi, Valorant w/ Friends', '2024-01-24T14:55:26Z')\n",
      "('Zy0x Archive/VOD: Jan 20, 2024 - Character Usage Tierlist, Abyss Reset, Quick HSR', '2024-01-21T16:06:50Z')\n",
      "('Zy0x Archive/VOD: Jan 19, 2024 - Reacting To The Genshin 4.4 Livestream', '2024-01-19T15:37:00Z')\n",
      "('Zy0x Archive/VOD: Jan 17, 2024 - Dr. Ratio Release, Testing Him Out On MoC And SU: Gold and Gears', '2024-01-18T13:46:13Z')\n",
      "('Zy0x Archive/VOD: Jan 11, 2024 - Surprise Stream Before Going To NYC Genshin Concert', '2024-01-11T16:09:10Z')\n",
      "('Zy0x Archive/VOD: Jan 9, 2024 - Chevreuse Release, Pulls, And Testing Her Out In The Abyss', '2024-01-10T15:01:56Z')\n",
      "('Zy0x Archive/VOD: Jan 8, 2024 - Playing The New HSR Gamemode \"Pure Fiction\" And SU: Gold And Gears', '2024-01-08T16:42:04Z')\n",
      "('Zy0x Archive/VOD: Jan 6, 2024 - F2P/Asia Acc Prep, 4.3 Event Grinding, 4.3 Second Half Banner Review', '2024-01-06T16:10:38Z')\n",
      "('Zy0x Archive/VOD: Jan 1, 2024 - New Genshin 4.3 Abyss, Doing 4* Clears, Trying Out Different Teams', '2024-01-02T13:19:25Z')\n",
      "('Zy0x Archive/VOD: Dec 31, 2023 - HoYoFair 2024 New Year Livestream Reaction, Vermillion Strongboxing', '2023-12-31T15:56:19Z')\n",
      "('Zy0x Archive/VOD: Dec 26, 2023 - HSR 1.6 Release, Ruan Mei & Xueyi Pulls, New MoC & SU Clearing', '2023-12-27T11:46:06Z')\n",
      "('Zy0x Archive/VOD: Dec 22, 2023 - Doing The Roses And Muskets Event, Fontaine And Inazuma Exploring', '2023-12-23T14:52:27Z')\n",
      "('Zy0x\\'s Offline Chat Reacts To The Genshin Impact 2023 Concert: \"Melodies of an Endless Journey\"', '2023-12-22T14:47:18Z')\n",
      "('Zy0x Does Quests - The Fontaine Archon Quest Supercut', '2023-12-20T17:07:30Z')\n",
      "('Zy0x Archive/VOD: Dec 19, 2023 - Genshin 4.3 Release, Navia Pulls, New Artifact Farming, Abyss Reset', '2023-12-20T14:00:16Z')\n",
      "('Zy0x Archive/VOD: Dec 15, 2023 - Finishing The Fontaine Archon Quest Act 5: Masquerade of the Guilty', '2023-12-17T02:39:18Z')\n",
      "('Zy0x Archive/VOD: Dec 15, 2023 - Reacting To The HSR 1.6 Livestream: Crown of the Mundane and Divine', '2023-12-15T17:36:15Z')\n",
      "('Zy0x Archive/VOD: Dec 14, 2023 - Doing The Fontaine Archon Quest Act 4 In A Jean Cosplay', '2023-12-15T17:34:56Z')\n",
      "('Zy0x Archive/VOD: Dec 10, 2023 - F2P/Asia Account Prep, Abyss Testing, Artifact Farming', '2023-12-10T13:59:07Z')\n",
      "('Zy0x Archive/VOD: Dec 8, 2023 - Reacting To The Genshin 4.3 Livestream', '2023-12-08T14:25:31Z')\n",
      "('Zy0x Archive/VOD: Dec 6, 2023 - Argenti & Hanya Release, Pulls, And Testing Them Out On MoC And SU', '2023-12-07T09:58:43Z')\n",
      "('Zy0x Archive/VOD: Dec 5, 2023 - New Genshin Dev Discussion, Abyss Reset, Personality Test Taking', '2023-12-06T12:36:24Z')\n",
      "(\"Zy0x Archive/VOD: Dec 1, 2023 - Reviewing @TenhaGenshin's $100K+ Account, Argenti Trailer Reaction\", '2023-12-01T13:30:55Z')\n",
      "('Zy0x Archive/VOD: Nov 27, 2023 - More Zenless Zone Zero CBT 2, Genshin 4* Abyss And Strongboxing', '2023-11-27T16:23:09Z')\n",
      "('Zy0x Archive/VOD: Nov 25, 2023 - Relearning 5* Weapon Passives, Furina Artifact Farming', '2023-11-26T18:08:30Z')\n",
      "('Zy0x Archive/VOD: Nov 23, 2023 - New Zenless Zone Zero CBT 2, Genshin 4.2 Second Half Banner Review', '2023-11-24T13:44:05Z')\n",
      "('Zy0x Archive/VOD: Nov 18, 2023 - \"Is It You?\" w/ Friends, Finishing Genshin Burst Animation Tierlist', '2023-11-19T17:50:15Z')\n",
      "('Zy0x Archive/VOD: Nov 17, 2023 - New Genshin 4.2 Abyss, Genshin Burst Animation Tierlist w/ Friends', '2023-11-18T13:52:48Z')\n",
      "('Zy0x Archive/VOD: Nov 14, 2023 - Honkai Star Rail 1.5 Release, Huohuo Pulls And Testing', '2023-11-15T08:42:06Z')\n",
      "('Zy0x Archive/VOD: Nov 11, 2023 - Reviewing 100 Accounts: Part 2, F2P/Asia Account Prep, Reacts', '2023-11-11T16:30:27Z')\n",
      "('Zy0x Archive/VOD: Nov 7, 2023 - Genshin 4.2 Release, Furina Pulls, Grinding And Abyss Testing', '2023-11-08T10:59:57Z')\n",
      "('Zy0x Archive/VOD: Nov 3, 2023 - Reviewing 100 Accounts: Part 1, ZZZ Teaser, Charlotte Demo Reactions', '2023-11-04T11:16:16Z')\n",
      "('Zy0x Archive/VOD: Nov 3, 2023 - Reacting To The HSR 1.5 And Genshin 4.2 Livestream', '2023-11-03T14:11:57Z')\n",
      "('Zy0x Archive/VOD: Nov 2, 2023 - Furina Prep, Co-op Achievement Hunting with @Tuonto, Abyss Reset', '2023-11-03T09:47:21Z')\n",
      "('Zy0x Archive/VOD: Oct 30, 2023 - Playing Valorant With @glittr, @yoolee, @xxalanchangxx, And @Tuonto', '2023-10-31T06:50:15Z')\n",
      "('Zy0x Archive/VOD: Oct 27, 2023 - Topaz & Guinaifen Release, Pulls, And Testing', '2023-10-28T11:38:26Z')\n",
      "('Zy0x Archive/VOD: Oct 26, 2023 - Furina Prep, TwitchCon Recap, r/okZyox, Topaz & Numby Trailer', '2023-10-27T11:22:57Z')\n",
      "('Zy0x Archive/VOD: Oct 23, 2023 - \"Gather! The Stars\\' Fiesta!\" TwitchCon 2023: Day 2 w/ Zy0x\\'s Chat', '2023-10-23T16:07:25Z')\n",
      "('Zy0x Archive/VOD: Oct 22, 2023 - \"Gather! The Stars\\' Fiesta!\" TwitchCon 2023: Day 1 w/ Zy0x\\'s Chat', '2023-10-22T15:40:16Z')\n",
      "('Zy0x Archive/VOD: Oct 18, 2023 - Wriothesley Release, Pulls, And Testing Him Out In The Abyss Reset', '2023-10-18T11:23:11Z')\n",
      "('Zy0x Archive/VOD: Oct 17, 2023 - Wriothesley Prep & Demo, Genshin 4.1 Second Half Banner Review', '2023-10-17T21:33:36Z')\n",
      "('Zy0x Archive/VOD: Oct 10, 2023 - Honkai Star Rail 1.4 Release, Jingliu Pulls & Testing', '2023-10-11T12:01:02Z')\n",
      "('Zy0x Archive/VOD: Oct 9, 2023 - Picking Cursed Accounts To Review & Fix, Artifact Farming', '2023-10-09T14:02:23Z')\n",
      "('Zy0x Archive/VOD: Oct 6, 2023 - Fontaine Exploring, Artifact Farming, Jingliu Trailer Reaction', '2023-10-06T13:04:43Z')\n",
      "('Zy0x Archive/VOD: Oct 2, 2023 - Inazuma And Fontaine Exploring, Achievement Hunting, Abyss Testing', '2023-10-04T08:33:29Z')\n",
      "('Zy0x Archive/VOD: Oct 2, 2023 - New Genshin 4.1 Abyss, Trying Out Teams, Artifact Farming', '2023-10-02T14:12:40Z')\n",
      "('Zy0x Archive/VOD: Sep 30, 2023 - Neuvillette Grinding & Testing, Doing The Genshin Anniversary Event', '2023-09-30T13:49:32Z')\n",
      "('Zy0x Archive/VOD: Sep 29, 2023 - Reacting To The Honkai Star Rail 1.4 Livestream', '2023-09-29T13:28:02Z')\n",
      "('Zy0x Archive/VOD: Sep 27, 2023 - Genshin 4.1 Release, Neuvillette Testing & Viewer Pulls w/ @Tuonto', '2023-09-27T17:47:54Z')\n",
      "('Zy0x Archive/VOD: Sep 25, 2023 - Neuvillette Prep & Teaser, Genshin 4.1 Banner Review, Abyss Reset', '2023-09-25T14:24:27Z')\n",
      "('Zy0x Archive/VOD: Sep 20, 2023 - Fu Xuan Release, Pulls, And Testing Her Out On Swarm Disaster', '2023-09-21T12:17:20Z')\n",
      "('Zy0x Archive/VOD: Sep 20, 2023 - Special Genshin Impact Stream Sponsored By BMO/Bank of Montreal', '2023-09-21T09:07:07Z')\n",
      "('Zy0x Archive/VOD: Sep 15, 2023 - Reacting To The Genshin Impact 4.1 Livestream', '2023-09-15T14:43:21Z')\n",
      "('Zy0x Archive/VOD: Sep 12, 2023 - Playing F2P/Asia Account, Artifact Farming, Abyss Testing', '2023-09-12T13:24:11Z')\n",
      "('Zy0x Archive/VOD: Sep 10, 2023 - Fontaine Exploring, Doing Events, Artifact Farming And Strongboxing', '2023-09-11T03:47:47Z')\n",
      "('Zy0x Archive/VOD: Sep 7, 2023 - Trying Out The Simulated Universe: Swarm Disaster Gamemode In HSR', '2023-09-07T12:01:14Z')\n",
      "('Zy0x Archive/VOD: Sep 5, 2023 - Freminet Release, Pulls, And Testing Him Out In Abyss And New Event', '2023-09-06T09:41:49Z')\n",
      "('Zy0x Archive/VOD: Sep 4, 2023 - The Zy0x Maid Saga Season 2: The Fontaine Archon Quest - Acts 1 & 2', '2023-09-04T15:11:30Z')\n",
      "('Zy0x Archive/VOD: Sep 2, 2023 - New Genshin 4.0 Abyss, Trying Teams, 4.0 Second Half Banner Review', '2023-09-02T12:43:30Z')\n",
      "('Zy0x Archive/VOD: Aug 29, 2023 - Honkai Star Rail 1.3 Release, Dan Heng IL Pulls And Testing', '2023-08-30T11:24:52Z')\n",
      "('Zy0x Archive/VOD: Aug 28, 2023 - Serious Talk, Spending 5000+ Resin On New Artifacts: Part 3, Reacts', '2023-08-29T08:44:44Z')\n",
      "('Zy0x Archive/VOD: Aug 27, 2023 - Spending 5000+ Resin On New Artifacts: Part 2', '2023-08-28T10:44:57Z')\n",
      "('Zy0x Archive/VOD: Aug 24, 2023 - Genshin Character Entrance Tierlist w/ Friends, Dan Heng Trailer', '2023-08-25T09:46:37Z')\n",
      "('Zy0x Archive/VOD: Aug 21, 2023 - Spending 5000+ Resin On New Artifacts: Part 1.5, Doing Weeklies', '2023-08-21T08:29:05Z')\n",
      "('Zy0x Archive/VOD: Aug 19, 2023 - Spending 5000+ Resin On New Artifacts: Part 1, Abyss, Exploring', '2023-08-20T10:04:20Z')\n",
      "('Zy0x Archive/VOD: Aug 16, 2023 - Fontaine Release Day 2, Farming New Artifacts, Lyney Abyss Testing', '2023-08-17T08:08:19Z')\n",
      "('Zy0x Archive/VOD: Aug 15, 2023 - Fontaine Release, Vermillion Strongboxing, Lyney Wishing, Exploring', '2023-08-16T12:16:33Z')\n",
      "('Zy0x Archive/VOD: Aug 13, 2023 - Talking About HSR And Genshin, Achievement Hunting, 3.8 Event Stuff', '2023-08-13T14:00:32Z')\n",
      "('Zy0x Archive/VOD: Aug 9, 2023 - Kafka Release, Pulling w/ Feng, Then Testing Kafka Out On Some Teams', '2023-08-10T07:50:36Z')\n",
      "('Zy0x Archive/VOD: Aug 9, 2023 - Reviewing New Artifact Sets, Kafka Trailer, Abyss, Spending 1k Resin', '2023-08-09T14:06:52Z')\n",
      "('Zy0x Archive/VOD: Aug 4, 2023 - Reacting To The Genshin Impact 4.0 Livestream', '2023-08-04T16:54:19Z')\n",
      "('Zy0x Archive/VOD: Aug 1, 2023 - Reviewing 50 Asia Accounts, Watatsumi Exploring, Reacting To Tuonto', '2023-08-01T11:06:14Z')\n",
      "('Zy0x Archive/VOD: July 29, 2023 - Watching The Honkai Impact 3rd Forest Capriccio Concert', '2023-07-30T03:36:25Z')\n",
      "('Zy0x Archive/VOD: July 28, 2023 - Reviewing 50 NA Accounts, F2P/Asia Account Prep, Inazuma Exploring', '2023-07-28T11:42:15Z')\n",
      "('Zy0x Archive/VOD: July 26, 2023 - Doing Some Abyss Then Spending Way Too Much Resin On Vermillion', '2023-07-26T13:51:54Z')\n",
      "('Zy0x Archive/VOD: July 10, 2023 - Guessing Money Spent On Accounts w/Tuonto', '2023-07-26T07:46:48Z')\n",
      "('Zy0x Archive/VOD: June 13, 2023 - Some HSR Then Feng Does The Genshin 3.7 Abyss', '2023-07-26T07:46:46Z')\n",
      "('Zy0x Archive/VOD: June 4, 2023 - Genshin 3.7 Abyss Randomizer Then HSR', '2023-07-26T07:46:46Z')\n",
      "('Zy0x Archive/VOD: July 22, 2023 - Genshin 3.8 Second Half Banner Review, Testing Out Blade', '2023-07-23T00:09:12Z')\n",
      "('Zy0x Archive/VOD: June 9, 2023 - Genshin 3.7 Second Half Banner Review Then More Silver Wolf Testing', '2023-07-22T20:04:17Z')\n",
      "('Zy0x Archive/VOD: June 7, 2023 - Pulling For Silver Wolf And Testing Her Out On HSR', '2023-07-22T20:04:08Z')\n",
      "('Zy0x Archive/VOD: June 23, 2023 - Reacting To The Genshin Impact 3.8 Livestream', '2023-07-22T06:01:57Z')\n",
      "('Zy0x Archive/VOD: June 22, 2023 - Exploring Enkanomiya, Doing Feast of the Departed Warriors Event', '2023-07-22T06:01:54Z')\n",
      "('Zy0x Archive/VOD: June 27, 2023 - Doing Some Abyss, Artifacts, Weeklies, And Divine Ingenuity Event', '2023-07-22T06:01:52Z')\n",
      "('Zy0x Archive/VOD: June 12, 2023 - r/okZyox, Kazuha and Alhaitham Prep, Abyss, Weeklies, Artifacts', '2023-07-22T06:01:39Z')\n",
      "('Zy0x Archive/VOD: June 28, 2023 - Pulling For Luocha And Yukong And Testing Them Out', '2023-07-22T05:46:28Z')\n",
      "('Zy0x Archive/VOD: June 17, 2023 - Artifact Farming, Abyss, Then Doing Stuff On Asia Account', '2023-07-22T05:24:08Z')\n",
      "('Zy0x Archive/VOD: June 24, 2023 - Fast Genshin Dailes, Artifacts, Abyss, Then More Final Fantasy 16', '2023-07-22T05:07:50Z')\n",
      "('Zy0x Archive/VOD: June 20, 2023 - Quick Genshin Stuff, Genshin Dev Discussion, Then Final Fantasy 16', '2023-07-22T05:01:49Z')\n",
      "('Zy0x Archive/VOD: July 18, 2023 - Honkai Star Rail 1.2 Release, Blade Pulls, New Trailblazer Quest', '2023-07-20T11:06:02Z')\n",
      "('Zy0x Archive/VOD: June 1, 2023 - New Genshin 3.7 Abyss, Testing Teams, Silver Wolf Trailer', '2023-07-19T06:38:47Z')\n",
      "('Zy0x Archive/VOD: July 8, 2023 - Reacting To The Honkai Star Rail 1.2 Livestream', '2023-07-19T02:05:37Z')\n",
      "('Zy0x Archive/VOD: July 15, 2023 - Blade Trailer, Genshin 3.8 Map Exploring, Character Survey', '2023-07-17T15:16:20Z')\n",
      "('Zy0x Archive/VOD: July 16, 2023 - New Genshin 3.8 Abyss, Testing Out Some Teams, Then Some HSR', '2023-07-17T12:07:03Z')\n",
      "('Zy0x Archive/VOD: May 30, 2023 - Hotel Stream, Silver Wolf Prep, Spending 1000 Resin, Weeklies', '2023-07-16T13:07:27Z')\n",
      "('Zy0x Archive/VOD: May 26, 2023 - Reacting To The Honkai Star Rail 1.1 Livestream', '2023-07-16T12:03:02Z')\n",
      "('Zy0x Archive/VOD: July 10, 2023 - Talking About AX, Spending 2000 Resin, Fontaine Teaser Reaction', '2023-07-15T16:07:40Z')\n",
      "('Zy0x Does Quests - Scaramouche Story Quest: Part 2', '2023-07-14T08:05:03Z')\n",
      "('Zy0x Does Quests - Scaramouche Story Quest: Part 1', '2023-07-14T05:18:43Z')\n",
      "('Zy0x Does Quests - The Sumeru Archon Quest: Act 6 - Caribert', '2023-07-13T16:05:26Z')\n",
      "('Zy0x Archive/VOD: July 12, 2023 - Genshin 3.8 Event, Artifact Farming, Random Account Reviews, Abyss', '2023-07-13T13:36:31Z')\n",
      "('Zy0x Does Quests - Lantern Rite 2023', '2023-07-12T20:17:00Z')\n",
      "('Zy0x Does Quests - The Sumeru Archon Quest: Act 4 & 5', '2023-07-12T20:16:46Z')\n",
      "('Zy0x Does Quests - The Sumeru Archon Quest: Act 3', '2023-07-12T12:12:51Z')\n",
      "('Zy0x Does Quests - Nahida Story Quest: Act 2', '2023-07-10T14:16:45Z')\n"
     ]
    }
   ],
   "source": [
    "channel_id = 'UCvoz_JCPK2XePUoLjHsg1PQ'\n",
    "\n",
    "# First, get the channel's upload playlist ID\n",
    "channel_response = youtube.channels().list(\n",
    "    id=channel_id, \n",
    "    part='contentDetails'\n",
    ").execute()\n",
    "\n",
    "uploads_playlist_id = channel_response['items'][0]['contentDetails']['relatedPlaylists']['uploads']\n",
    "\n",
    "# Then, retrieve videos from the upload playlist, including title and upload date\n",
    "video_details = []\n",
    "\n",
    "next_page_token = None\n",
    "while True:\n",
    "    playlistitems_response = youtube.playlistItems().list(\n",
    "        playlistId=uploads_playlist_id,\n",
    "        part='snippet',\n",
    "        maxResults=50,  # Adjust based on your needs, up to a maximum of 50\n",
    "        pageToken=next_page_token\n",
    "    ).execute()\n",
    "    \n",
    "    for item in playlistitems_response['items']:\n",
    "        title = item['snippet']['title']\n",
    "        upload_date = item['snippet']['publishedAt']  # ISO 8601 format\n",
    "        video_details.append((title, upload_date))\n",
    "    \n",
    "    next_page_token = playlistitems_response.get('nextPageToken')\n",
    "    if next_page_token is None:\n",
    "        break\n",
    "\n",
    "# Print or process the list of tuples containing video titles and their upload dates\n",
    "for detail in video_details:\n",
    "    print(detail)"
   ]
  },
  {
   "cell_type": "code",
   "execution_count": 241,
   "metadata": {},
   "outputs": [
    {
     "data": {
      "text/plain": [
       "119"
      ]
     },
     "execution_count": 241,
     "metadata": {},
     "output_type": "execute_result"
    }
   ],
   "source": [
    "len(video_details)"
   ]
  },
  {
   "cell_type": "code",
   "execution_count": 242,
   "metadata": {},
   "outputs": [
    {
     "name": "stdout",
     "output_type": "stream",
     "text": [
      "No date found in the following string:\n",
      "Zy0x's Offline Chat Reacts To The Genshin Impact 2023 Concert: \"Melodies of an Endless Journey\"\n",
      "-----------------------------------------------------------------------------------\n",
      "No date found in the following string:\n",
      "Zy0x Does Quests - The Fontaine Archon Quest Supercut\n",
      "-----------------------------------------------------------------------------------\n",
      "No date found in the following string:\n",
      "Zy0x Does Quests - Scaramouche Story Quest: Part 2\n",
      "-----------------------------------------------------------------------------------\n",
      "No date found in the following string:\n",
      "Zy0x Does Quests - Scaramouche Story Quest: Part 1\n",
      "-----------------------------------------------------------------------------------\n",
      "No date found in the following string:\n",
      "Zy0x Does Quests - The Sumeru Archon Quest: Act 6 - Caribert\n",
      "-----------------------------------------------------------------------------------\n",
      "No date found in the following string:\n",
      "Zy0x Does Quests - Lantern Rite 2023\n",
      "-----------------------------------------------------------------------------------\n",
      "No date found in the following string:\n",
      "Zy0x Does Quests - The Sumeru Archon Quest: Act 4 & 5\n",
      "-----------------------------------------------------------------------------------\n",
      "No date found in the following string:\n",
      "Zy0x Does Quests - The Sumeru Archon Quest: Act 3\n",
      "-----------------------------------------------------------------------------------\n",
      "No date found in the following string:\n",
      "Zy0x Does Quests - Nahida Story Quest: Act 2\n",
      "-----------------------------------------------------------------------------------\n",
      "['Feb 18, 2024', 'Jan 17, 2024', 'Feb 14, 2024', 'Feb 12, 2024', 'Feb 8, 2024', 'Feb 5, 2024', 'Feb 5, 2024', 'Feb 4, 2024', 'Feb 1, 2024', 'Jan 31, 2024', 'Jan 30, 2024', 'Jan 28, 2024', 'Jan 26, 2024', 'Jan 24, 2024', 'Jan 21, 2024', 'Jan 20, 2024', 'Jan 19, 2024', 'Jan 17, 2024', 'Jan 11, 2024', 'Jan 9, 2024', 'Jan 8, 2024', 'Jan 6, 2024', 'Jan 1, 2024', 'Dec 31, 2023', 'Dec 26, 2023', 'Dec 22, 2023', 'Dec 19, 2023', 'Dec 15, 2023', 'Dec 15, 2023', 'Dec 14, 2023', 'Dec 10, 2023', 'Dec 8, 2023', 'Dec 6, 2023', 'Dec 5, 2023', 'Dec 1, 2023', 'Nov 27, 2023', 'Nov 25, 2023', 'Nov 23, 2023', 'Nov 18, 2023', 'Nov 17, 2023', 'Nov 14, 2023', 'Nov 11, 2023', 'Nov 7, 2023', 'Nov 3, 2023', 'Nov 3, 2023', 'Nov 2, 2023', 'Oct 30, 2023', 'Oct 27, 2023', 'Oct 26, 2023', 'Oct 23, 2023', 'Oct 22, 2023', 'Oct 18, 2023', 'Oct 17, 2023', 'Oct 10, 2023', 'Oct 9, 2023', 'Oct 6, 2023', 'Oct 2, 2023', 'Oct 2, 2023', 'Sep 30, 2023', 'Sep 29, 2023', 'Sep 27, 2023', 'Sep 25, 2023', 'Sep 20, 2023', 'Sep 20, 2023', 'Sep 15, 2023', 'Sep 12, 2023', 'Sep 10, 2023', 'Sep 7, 2023', 'Sep 5, 2023', 'Sep 4, 2023', 'Sep 2, 2023', 'Aug 29, 2023', 'Aug 28, 2023', 'Aug 27, 2023', 'Aug 24, 2023', 'Aug 21, 2023', 'Aug 19, 2023', 'Aug 16, 2023', 'Aug 15, 2023', 'Aug 13, 2023', 'Aug 9, 2023', 'Aug 9, 2023', 'Aug 4, 2023', 'Aug 1, 2023', 'July 29, 2023', 'July 28, 2023', 'July 26, 2023', 'July 10, 2023', 'June 13, 2023', 'June 4, 2023', 'July 22, 2023', 'June 9, 2023', 'June 7, 2023', 'June 23, 2023', 'June 22, 2023', 'June 27, 2023', 'June 12, 2023', 'June 28, 2023', 'June 17, 2023', 'June 24, 2023', 'June 20, 2023', 'July 18, 2023', 'June 1, 2023', 'July 8, 2023', 'July 15, 2023', 'July 16, 2023', 'May 30, 2023', 'May 26, 2023', 'July 10, 2023', 'July 12, 2023']\n"
     ]
    }
   ],
   "source": [
    "# Updated RegEx pattern to match dates, including \"June\" and \"July\"\n",
    "date_pattern = r'\\b(Jan|Feb|Mar|Apr|May|Jun|June|Jul|July|Aug|Sep|Oct|Nov|Dec)\\s\\d{1,2},\\s\\d{4}\\b'\n",
    "\n",
    "# List to hold all the exact dates found from video titles\n",
    "dates = []\n",
    "# List to hold upload dates of videos whose titles did not contain a date\n",
    "missing_dates = []\n",
    "\n",
    "# Iterate over each video title and search for dates using the RegEx pattern\n",
    "for tup in video_details:\n",
    "    title = tup[0]\n",
    "    match = re.search(date_pattern, title)\n",
    "    # Extract and append the date if a match is found\n",
    "    if match:\n",
    "        extracted_date = match.group()\n",
    "        dates.append(extracted_date)\n",
    "    else:\n",
    "        print(\"No date found in the following string:\")\n",
    "        print(title)\n",
    "        print(\"-----------------------------------------------------------------------------------\")\n",
    "        # Add the upload date to a separate list if no date is in the title\n",
    "        missing_dates.append(tup[1])\n",
    "\n",
    "# Print the list of exact dates\n",
    "print(dates)"
   ]
  },
  {
   "cell_type": "code",
   "execution_count": 243,
   "metadata": {},
   "outputs": [
    {
     "data": {
      "text/plain": [
       "['Feb 18, 2024',\n",
       " 'Jan 17, 2024',\n",
       " 'Feb 14, 2024',\n",
       " 'Feb 12, 2024',\n",
       " 'Feb 8, 2024',\n",
       " 'Feb 5, 2024',\n",
       " 'Feb 5, 2024',\n",
       " 'Feb 4, 2024',\n",
       " 'Feb 1, 2024',\n",
       " 'Jan 31, 2024',\n",
       " 'Jan 30, 2024',\n",
       " 'Jan 28, 2024',\n",
       " 'Jan 26, 2024',\n",
       " 'Jan 24, 2024',\n",
       " 'Jan 21, 2024',\n",
       " 'Jan 20, 2024',\n",
       " 'Jan 19, 2024',\n",
       " 'Jan 17, 2024',\n",
       " 'Jan 11, 2024',\n",
       " 'Jan 9, 2024',\n",
       " 'Jan 8, 2024',\n",
       " 'Jan 6, 2024',\n",
       " 'Jan 1, 2024',\n",
       " 'Dec 31, 2023',\n",
       " 'Dec 26, 2023',\n",
       " 'Dec 22, 2023',\n",
       " 'Dec 19, 2023',\n",
       " 'Dec 15, 2023',\n",
       " 'Dec 15, 2023',\n",
       " 'Dec 14, 2023',\n",
       " 'Dec 10, 2023',\n",
       " 'Dec 8, 2023',\n",
       " 'Dec 6, 2023',\n",
       " 'Dec 5, 2023',\n",
       " 'Dec 1, 2023',\n",
       " 'Nov 27, 2023',\n",
       " 'Nov 25, 2023',\n",
       " 'Nov 23, 2023',\n",
       " 'Nov 18, 2023',\n",
       " 'Nov 17, 2023',\n",
       " 'Nov 14, 2023',\n",
       " 'Nov 11, 2023',\n",
       " 'Nov 7, 2023',\n",
       " 'Nov 3, 2023',\n",
       " 'Nov 3, 2023',\n",
       " 'Nov 2, 2023',\n",
       " 'Oct 30, 2023',\n",
       " 'Oct 27, 2023',\n",
       " 'Oct 26, 2023',\n",
       " 'Oct 23, 2023',\n",
       " 'Oct 22, 2023',\n",
       " 'Oct 18, 2023',\n",
       " 'Oct 17, 2023',\n",
       " 'Oct 10, 2023',\n",
       " 'Oct 9, 2023',\n",
       " 'Oct 6, 2023',\n",
       " 'Oct 2, 2023',\n",
       " 'Oct 2, 2023',\n",
       " 'Sep 30, 2023',\n",
       " 'Sep 29, 2023',\n",
       " 'Sep 27, 2023',\n",
       " 'Sep 25, 2023',\n",
       " 'Sep 20, 2023',\n",
       " 'Sep 20, 2023',\n",
       " 'Sep 15, 2023',\n",
       " 'Sep 12, 2023',\n",
       " 'Sep 10, 2023',\n",
       " 'Sep 7, 2023',\n",
       " 'Sep 5, 2023',\n",
       " 'Sep 4, 2023',\n",
       " 'Sep 2, 2023',\n",
       " 'Aug 29, 2023',\n",
       " 'Aug 28, 2023',\n",
       " 'Aug 27, 2023',\n",
       " 'Aug 24, 2023',\n",
       " 'Aug 21, 2023',\n",
       " 'Aug 19, 2023',\n",
       " 'Aug 16, 2023',\n",
       " 'Aug 15, 2023',\n",
       " 'Aug 13, 2023',\n",
       " 'Aug 9, 2023',\n",
       " 'Aug 9, 2023',\n",
       " 'Aug 4, 2023',\n",
       " 'Aug 1, 2023',\n",
       " 'July 29, 2023',\n",
       " 'July 28, 2023',\n",
       " 'July 26, 2023',\n",
       " 'July 10, 2023',\n",
       " 'June 13, 2023',\n",
       " 'June 4, 2023',\n",
       " 'July 22, 2023',\n",
       " 'June 9, 2023',\n",
       " 'June 7, 2023',\n",
       " 'June 23, 2023',\n",
       " 'June 22, 2023',\n",
       " 'June 27, 2023',\n",
       " 'June 12, 2023',\n",
       " 'June 28, 2023',\n",
       " 'June 17, 2023',\n",
       " 'June 24, 2023',\n",
       " 'June 20, 2023',\n",
       " 'July 18, 2023',\n",
       " 'June 1, 2023',\n",
       " 'July 8, 2023',\n",
       " 'July 15, 2023',\n",
       " 'July 16, 2023',\n",
       " 'May 30, 2023',\n",
       " 'May 26, 2023',\n",
       " 'July 10, 2023',\n",
       " 'July 12, 2023']"
      ]
     },
     "execution_count": 243,
     "metadata": {},
     "output_type": "execute_result"
    }
   ],
   "source": [
    "dates"
   ]
  },
  {
   "cell_type": "code",
   "execution_count": 244,
   "metadata": {},
   "outputs": [
    {
     "data": {
      "text/plain": [
       "110"
      ]
     },
     "execution_count": 244,
     "metadata": {},
     "output_type": "execute_result"
    }
   ],
   "source": [
    "len(dates)"
   ]
  },
  {
   "cell_type": "code",
   "execution_count": 245,
   "metadata": {},
   "outputs": [
    {
     "data": {
      "text/plain": [
       "['2023-12-22T14:47:18Z',\n",
       " '2023-12-20T17:07:30Z',\n",
       " '2023-07-14T08:05:03Z',\n",
       " '2023-07-14T05:18:43Z',\n",
       " '2023-07-13T16:05:26Z',\n",
       " '2023-07-12T20:17:00Z',\n",
       " '2023-07-12T20:16:46Z',\n",
       " '2023-07-12T12:12:51Z',\n",
       " '2023-07-10T14:16:45Z']"
      ]
     },
     "execution_count": 245,
     "metadata": {},
     "output_type": "execute_result"
    }
   ],
   "source": [
    "missing_dates"
   ]
  },
  {
   "cell_type": "code",
   "execution_count": 246,
   "metadata": {},
   "outputs": [
    {
     "data": {
      "text/plain": [
       "9"
      ]
     },
     "execution_count": 246,
     "metadata": {},
     "output_type": "execute_result"
    }
   ],
   "source": [
    "len(missing_dates)"
   ]
  },
  {
   "cell_type": "code",
   "execution_count": 247,
   "metadata": {},
   "outputs": [],
   "source": [
    "# We need this function to convert the date strings to datetimes, because Zy0xArchives was not really consistent with their month-naming conventions.\n",
    "# They sometimes used the abbreviated form of a month, and other times they used the full name of the month.\n",
    "def parse_date(date_str):\n",
    "    for fmt in (\"%b %d, %Y\", \"%B %d, %Y\"):\n",
    "        try:\n",
    "            return datetime.strptime(date_str, fmt)\n",
    "        except ValueError:\n",
    "            continue\n",
    "    raise ValueError(f\"Date format for '{date_str}' is not supported.\")"
   ]
  },
  {
   "cell_type": "code",
   "execution_count": 248,
   "metadata": {},
   "outputs": [
    {
     "data": {
      "text/plain": [
       "[datetime.datetime(2024, 2, 18, 0, 0),\n",
       " datetime.datetime(2024, 1, 17, 0, 0),\n",
       " datetime.datetime(2024, 2, 14, 0, 0),\n",
       " datetime.datetime(2024, 2, 12, 0, 0),\n",
       " datetime.datetime(2024, 2, 8, 0, 0),\n",
       " datetime.datetime(2024, 2, 5, 0, 0),\n",
       " datetime.datetime(2024, 2, 5, 0, 0),\n",
       " datetime.datetime(2024, 2, 4, 0, 0),\n",
       " datetime.datetime(2024, 2, 1, 0, 0),\n",
       " datetime.datetime(2024, 1, 31, 0, 0),\n",
       " datetime.datetime(2024, 1, 30, 0, 0),\n",
       " datetime.datetime(2024, 1, 28, 0, 0),\n",
       " datetime.datetime(2024, 1, 26, 0, 0),\n",
       " datetime.datetime(2024, 1, 24, 0, 0),\n",
       " datetime.datetime(2024, 1, 21, 0, 0),\n",
       " datetime.datetime(2024, 1, 20, 0, 0),\n",
       " datetime.datetime(2024, 1, 19, 0, 0),\n",
       " datetime.datetime(2024, 1, 17, 0, 0),\n",
       " datetime.datetime(2024, 1, 11, 0, 0),\n",
       " datetime.datetime(2024, 1, 9, 0, 0),\n",
       " datetime.datetime(2024, 1, 8, 0, 0),\n",
       " datetime.datetime(2024, 1, 6, 0, 0),\n",
       " datetime.datetime(2024, 1, 1, 0, 0),\n",
       " datetime.datetime(2023, 12, 31, 0, 0),\n",
       " datetime.datetime(2023, 12, 26, 0, 0),\n",
       " datetime.datetime(2023, 12, 22, 0, 0),\n",
       " datetime.datetime(2023, 12, 19, 0, 0),\n",
       " datetime.datetime(2023, 12, 15, 0, 0),\n",
       " datetime.datetime(2023, 12, 15, 0, 0),\n",
       " datetime.datetime(2023, 12, 14, 0, 0),\n",
       " datetime.datetime(2023, 12, 10, 0, 0),\n",
       " datetime.datetime(2023, 12, 8, 0, 0),\n",
       " datetime.datetime(2023, 12, 6, 0, 0),\n",
       " datetime.datetime(2023, 12, 5, 0, 0),\n",
       " datetime.datetime(2023, 12, 1, 0, 0),\n",
       " datetime.datetime(2023, 11, 27, 0, 0),\n",
       " datetime.datetime(2023, 11, 25, 0, 0),\n",
       " datetime.datetime(2023, 11, 23, 0, 0),\n",
       " datetime.datetime(2023, 11, 18, 0, 0),\n",
       " datetime.datetime(2023, 11, 17, 0, 0),\n",
       " datetime.datetime(2023, 11, 14, 0, 0),\n",
       " datetime.datetime(2023, 11, 11, 0, 0),\n",
       " datetime.datetime(2023, 11, 7, 0, 0),\n",
       " datetime.datetime(2023, 11, 3, 0, 0),\n",
       " datetime.datetime(2023, 11, 3, 0, 0),\n",
       " datetime.datetime(2023, 11, 2, 0, 0),\n",
       " datetime.datetime(2023, 10, 30, 0, 0),\n",
       " datetime.datetime(2023, 10, 27, 0, 0),\n",
       " datetime.datetime(2023, 10, 26, 0, 0),\n",
       " datetime.datetime(2023, 10, 23, 0, 0),\n",
       " datetime.datetime(2023, 10, 22, 0, 0),\n",
       " datetime.datetime(2023, 10, 18, 0, 0),\n",
       " datetime.datetime(2023, 10, 17, 0, 0),\n",
       " datetime.datetime(2023, 10, 10, 0, 0),\n",
       " datetime.datetime(2023, 10, 9, 0, 0),\n",
       " datetime.datetime(2023, 10, 6, 0, 0),\n",
       " datetime.datetime(2023, 10, 2, 0, 0),\n",
       " datetime.datetime(2023, 10, 2, 0, 0),\n",
       " datetime.datetime(2023, 9, 30, 0, 0),\n",
       " datetime.datetime(2023, 9, 29, 0, 0),\n",
       " datetime.datetime(2023, 9, 27, 0, 0),\n",
       " datetime.datetime(2023, 9, 25, 0, 0),\n",
       " datetime.datetime(2023, 9, 20, 0, 0),\n",
       " datetime.datetime(2023, 9, 20, 0, 0),\n",
       " datetime.datetime(2023, 9, 15, 0, 0),\n",
       " datetime.datetime(2023, 9, 12, 0, 0),\n",
       " datetime.datetime(2023, 9, 10, 0, 0),\n",
       " datetime.datetime(2023, 9, 7, 0, 0),\n",
       " datetime.datetime(2023, 9, 5, 0, 0),\n",
       " datetime.datetime(2023, 9, 4, 0, 0),\n",
       " datetime.datetime(2023, 9, 2, 0, 0),\n",
       " datetime.datetime(2023, 8, 29, 0, 0),\n",
       " datetime.datetime(2023, 8, 28, 0, 0),\n",
       " datetime.datetime(2023, 8, 27, 0, 0),\n",
       " datetime.datetime(2023, 8, 24, 0, 0),\n",
       " datetime.datetime(2023, 8, 21, 0, 0),\n",
       " datetime.datetime(2023, 8, 19, 0, 0),\n",
       " datetime.datetime(2023, 8, 16, 0, 0),\n",
       " datetime.datetime(2023, 8, 15, 0, 0),\n",
       " datetime.datetime(2023, 8, 13, 0, 0),\n",
       " datetime.datetime(2023, 8, 9, 0, 0),\n",
       " datetime.datetime(2023, 8, 9, 0, 0),\n",
       " datetime.datetime(2023, 8, 4, 0, 0),\n",
       " datetime.datetime(2023, 8, 1, 0, 0),\n",
       " datetime.datetime(2023, 7, 29, 0, 0),\n",
       " datetime.datetime(2023, 7, 28, 0, 0),\n",
       " datetime.datetime(2023, 7, 26, 0, 0),\n",
       " datetime.datetime(2023, 7, 10, 0, 0),\n",
       " datetime.datetime(2023, 6, 13, 0, 0),\n",
       " datetime.datetime(2023, 6, 4, 0, 0),\n",
       " datetime.datetime(2023, 7, 22, 0, 0),\n",
       " datetime.datetime(2023, 6, 9, 0, 0),\n",
       " datetime.datetime(2023, 6, 7, 0, 0),\n",
       " datetime.datetime(2023, 6, 23, 0, 0),\n",
       " datetime.datetime(2023, 6, 22, 0, 0),\n",
       " datetime.datetime(2023, 6, 27, 0, 0),\n",
       " datetime.datetime(2023, 6, 12, 0, 0),\n",
       " datetime.datetime(2023, 6, 28, 0, 0),\n",
       " datetime.datetime(2023, 6, 17, 0, 0),\n",
       " datetime.datetime(2023, 6, 24, 0, 0),\n",
       " datetime.datetime(2023, 6, 20, 0, 0),\n",
       " datetime.datetime(2023, 7, 18, 0, 0),\n",
       " datetime.datetime(2023, 6, 1, 0, 0),\n",
       " datetime.datetime(2023, 7, 8, 0, 0),\n",
       " datetime.datetime(2023, 7, 15, 0, 0),\n",
       " datetime.datetime(2023, 7, 16, 0, 0),\n",
       " datetime.datetime(2023, 5, 30, 0, 0),\n",
       " datetime.datetime(2023, 5, 26, 0, 0),\n",
       " datetime.datetime(2023, 7, 10, 0, 0),\n",
       " datetime.datetime(2023, 7, 12, 0, 0)]"
      ]
     },
     "execution_count": 248,
     "metadata": {},
     "output_type": "execute_result"
    }
   ],
   "source": [
    "# Convert date strings to datetime objects\n",
    "datetimes = [parse_date(date) for date in dates]\n",
    "datetimes"
   ]
  },
  {
   "cell_type": "code",
   "execution_count": 249,
   "metadata": {},
   "outputs": [
    {
     "data": {
      "text/plain": [
       "[datetime.datetime(2023, 12, 22, 14, 47, 18),\n",
       " datetime.datetime(2023, 12, 20, 17, 7, 30),\n",
       " datetime.datetime(2023, 7, 14, 8, 5, 3),\n",
       " datetime.datetime(2023, 7, 14, 5, 18, 43),\n",
       " datetime.datetime(2023, 7, 13, 16, 5, 26),\n",
       " datetime.datetime(2023, 7, 12, 20, 17),\n",
       " datetime.datetime(2023, 7, 12, 20, 16, 46),\n",
       " datetime.datetime(2023, 7, 12, 12, 12, 51),\n",
       " datetime.datetime(2023, 7, 10, 14, 16, 45)]"
      ]
     },
     "execution_count": 249,
     "metadata": {},
     "output_type": "execute_result"
    }
   ],
   "source": [
    "# Convert ISO 8601 strings to datetime objects, stripping the 'Z' (for UTC)\n",
    "missing_datetimes = [datetime.fromisoformat(date_str.rstrip('Z')) for date_str in missing_dates]\n",
    "missing_datetimes"
   ]
  },
  {
   "cell_type": "markdown",
   "metadata": {},
   "source": [
    "# First let's do the calculation using just the dates from titles"
   ]
  },
  {
   "cell_type": "code",
   "execution_count": 250,
   "metadata": {},
   "outputs": [
    {
     "name": "stdout",
     "output_type": "stream",
     "text": [
      "Average number of days between consecutive dates: 2.458715596330275\n"
     ]
    }
   ],
   "source": [
    "# Sort the dates in case they are not in order\n",
    "datetimes.sort()\n",
    "\n",
    "# Calculate the differences (in days) between consecutive dates\n",
    "differences = [(datetimes[i + 1] - datetimes[i]).days for i in range(len(datetimes) - 1)]\n",
    "\n",
    "# Calculate the average difference\n",
    "average_difference = sum(differences) / len(differences) if differences else 0\n",
    "\n",
    "print(f\"Average number of days between consecutive dates: {average_difference}\")"
   ]
  },
  {
   "cell_type": "markdown",
   "metadata": {},
   "source": [
    "# Now let's do the calculation by adding in the upload dates of videos whose titles did not contain a date"
   ]
  },
  {
   "cell_type": "code",
   "execution_count": 251,
   "metadata": {},
   "outputs": [
    {
     "name": "stdout",
     "output_type": "stream",
     "text": [
      "Average number of days between consecutive dates: 2.2203389830508473\n"
     ]
    }
   ],
   "source": [
    "# Combine all dates, then perform calculation\n",
    "all_datetimes = datetimes + missing_datetimes\n",
    "\n",
    "# Sort the dates in case they are not in order\n",
    "all_datetimes.sort()\n",
    "\n",
    "# Calculate the differences (in days) between consecutive dates\n",
    "differences = [(all_datetimes[i + 1] - all_datetimes[i]).days for i in range(len(all_datetimes) - 1)]\n",
    "\n",
    "# Calculate the average difference\n",
    "average_difference = sum(differences) / len(differences) if differences else 0\n",
    "\n",
    "print(f\"Average number of days between consecutive dates: {average_difference}\")"
   ]
  },
  {
   "cell_type": "markdown",
   "metadata": {},
   "source": [
    "# Let's do some visualization"
   ]
  },
  {
   "cell_type": "code",
   "execution_count": 252,
   "metadata": {},
   "outputs": [
    {
     "data": {
      "text/plain": [
       "(<Figure size 1000x340 with 2 Axes>,\n",
       " array([<AxesSubplot:ylabel='2023'>, <AxesSubplot:ylabel='2024'>],\n",
       "       dtype=object))"
      ]
     },
     "execution_count": 252,
     "metadata": {},
     "output_type": "execute_result"
    },
    {
     "data": {
      "image/png": "[encoded data removed]",
      "text/plain": [
       "<Figure size 1000x340 with 2 Axes>"
      ]
     },
     "metadata": {},
     "output_type": "display_data"
    }
   ],
   "source": [
    "# List of datetime objects you want to mark; here we are just using dates from titles, but you could also add in the upload dates from videos whose titles did not have a date\n",
    "dates_to_mark = datetimes\n",
    "\n",
    "# Create a date range for the year, for example\n",
    "date_range = pd.date_range(start='2023-01-01', end='2024-12-31')\n",
    "\n",
    "# Create a Pandas Series with the date range as the index and all values set to 0\n",
    "data = pd.Series(0, index=date_range)\n",
    "\n",
    "# Mark the specific dates by setting their value to 1 (or any positive number)\n",
    "for date in dates_to_mark:\n",
    "    if date in data.index:\n",
    "        data[date] = 1\n",
    "\n",
    "# Use calplot to plot the data; days with value > 0 will be highlighted\n",
    "calplot.calplot(data, cmap='plasma', colorbar=False)"
   ]
  }
 ],
 "metadata": {
  "kernelspec": {
   "display_name": "base",
   "language": "python",
   "name": "python3"
  },
  "language_info": {
   "codemirror_mode": {
    "name": "ipython",
    "version": 3
   },
   "file_extension": ".py",
   "mimetype": "text/x-python",
   "name": "python",
   "nbconvert_exporter": "python",
   "pygments_lexer": "ipython3",
   "version": "3.9.13"
  }
 },
 "nbformat": 4,
 "nbformat_minor": 2
}
